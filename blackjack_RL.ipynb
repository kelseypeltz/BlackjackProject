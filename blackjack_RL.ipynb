{
  "nbformat": 4,
  "nbformat_minor": 0,
  "metadata": {
    "colab": {
      "provenance": [],
      "authorship_tag": "ABX9TyNUrrAHArZE0Qa/fW/NkQ8+",
      "include_colab_link": true
    },
    "kernelspec": {
      "name": "python3",
      "display_name": "Python 3"
    },
    "language_info": {
      "name": "python"
    }
  },
  "cells": [
    {
      "cell_type": "markdown",
      "metadata": {
        "id": "view-in-github",
        "colab_type": "text"
      },
      "source": [
        "<a href=\"https://colab.research.google.com/github/kelseypeltz/BlackjackProject/blob/main/blackjack_RL.ipynb\" target=\"_parent\"><img src=\"https://colab.research.google.com/assets/colab-badge.svg\" alt=\"Open In Colab\"/></a>"
      ]
    },
    {
      "cell_type": "code",
      "execution_count": 1,
      "metadata": {
        "colab": {
          "base_uri": "https://localhost:8080/"
        },
        "id": "g7AqTxq9ow_J",
        "outputId": "7247287e-e51c-4ad9-a3b7-348ae3659a55"
      },
      "outputs": [
        {
          "output_type": "stream",
          "name": "stdout",
          "text": [
            "Mounted at /content/drive\n"
          ]
        }
      ],
      "source": [
        "from google.colab import drive\n",
        "drive.mount('/content/drive')"
      ]
    },
    {
      "cell_type": "code",
      "source": [
        "!git clone https://github.com/abken601/Blackjack-Reinforcement-Learning.git"
      ],
      "metadata": {
        "colab": {
          "base_uri": "https://localhost:8080/"
        },
        "id": "8jFJuz7ipE08",
        "outputId": "b28b83e3-b421-41f6-bfcc-e31cbe5d50de"
      },
      "execution_count": 2,
      "outputs": [
        {
          "output_type": "stream",
          "name": "stdout",
          "text": [
            "Cloning into 'Blackjack-Reinforcement-Learning'...\n",
            "remote: Enumerating objects: 44, done.\u001b[K\n",
            "remote: Total 44 (delta 0), reused 0 (delta 0), pack-reused 44\u001b[K\n",
            "Unpacking objects: 100% (44/44), 58.68 KiB | 445.00 KiB/s, done.\n"
          ]
        }
      ]
    },
    {
      "cell_type": "code",
      "source": [
        "%cd Blackjack-Reinforcement-Learning"
      ],
      "metadata": {
        "colab": {
          "base_uri": "https://localhost:8080/"
        },
        "id": "7tlE6IEKpIl1",
        "outputId": "3f386f74-55a8-471f-b431-f9cfe252829e"
      },
      "execution_count": 4,
      "outputs": [
        {
          "output_type": "stream",
          "name": "stdout",
          "text": [
            "/content/Blackjack-Reinforcement-Learning\n"
          ]
        }
      ]
    },
    {
      "cell_type": "code",
      "source": [
        "!python main.py"
      ],
      "metadata": {
        "colab": {
          "base_uri": "https://localhost:8080/"
        },
        "id": "-fi1EYPcpT1r",
        "outputId": "0a71608a-86ff-41d0-fdca-9f105b539650"
      },
      "execution_count": 11,
      "outputs": [
        {
          "output_type": "stream",
          "name": "stdout",
          "text": [
            "Enter number of decks:6\n",
            "After train for  10000  iterations using Q-Learning\n",
            "Our game bot fights against the dealer for  10000  rounds\n",
            "Win:  40.33 %\n",
            "Draw:  7.16 %\n",
            "Lose:  52.51 %\n",
            "\n",
            "After train for  10000  iterations using Sarsa\n",
            "Our game bot fights against the dealer for  10000  rounds\n",
            "Win:  39.17 %\n",
            "Draw:  5.9799999999999995 %\n",
            "Lose:  54.85 %\n",
            "\n",
            "After train for  10000  iterations using Temporal Difference\n",
            "Our game bot fights against the dealer for  10000  rounds\n",
            "Win:  41.36 %\n",
            "Draw:  7.359999999999999 %\n",
            "Lose:  51.28 %\n",
            "\n",
            "                                            Q-learning\n",
            "              player (usable ace)                            player (no usable ace)    \n",
            "          11 12 13 14 15 16 17 18 19 20 21               11 12 13 14 15 16 17 18 19 20 21 \n",
            "       1   H  S  S  S  S  S  H  S  S  S  S            1   H  S  S  S  S  S  S  S  S  S  S  \n",
            "       2   H  H  H  S  S  H  H  S  S  H  S            2   H  H  S  S  S  S  S  S  S  S  S  \n",
            "    D  3   H  H  H  S  H  H  S  S  H  H  S        D   3   H  H  H  S  S  S  S  S  S  S  S  \n",
            "    e  4   H  S  S  H  S  H  S  S  S  S  S        e   4   S  H  H  S  S  S  S  S  S  S  S  \n",
            "    a  5   H  S  S  H  S  H  H  S  S  S  S        a   5   H  H  S  S  S  S  S  S  S  S  S  \n",
            "    l  6   H  S  H  H  H  S  S  H  S  H  S        l   6   H  H  H  H  S  S  S  S  S  S  S  \n",
            "    e  7   H  H  H  H  H  S  H  S  S  S  S        e   7   H  H  H  H  S  S  S  S  S  S  S  \n",
            "    r  8   H  S  S  S  S  H  S  S  S  S  S        r   8   H  H  S  S  H  H  H  S  S  S  S  \n",
            "       9   H  H  S  S  H  H  H  H  S  H  S            9   H  H  H  S  S  S  S  S  S  S  S  \n",
            "      10   H  H  H  H  H  S  H  H  S  S  S           10   H  S  S  S  H  S  S  S  S  S  S  \n",
            "\n",
            "                                              Sarsa\n",
            "              player (usable ace)                            player (no usable ace)    \n",
            "          11 12 13 14 15 16 17 18 19 20 21               11 12 13 14 15 16 17 18 19 20 21 \n",
            "       1   H  S  S  S  S  S  S  H  S  S  S            1   S  S  S  S  H  H  S  S  S  S  S  \n",
            "       2   H  S  S  S  S  S  S  S  S  S  S            2   H  S  S  S  S  S  S  S  S  S  S  \n",
            "    D  3   H  S  H  H  S  H  S  H  H  S  S        D   3   S  S  S  S  S  S  S  S  S  S  S  \n",
            "    e  4   H  H  S  H  H  S  S  H  S  S  S        e   4   S  S  S  S  S  S  S  S  S  S  S  \n",
            "    a  5   H  H  H  S  H  S  S  H  S  S  S        a   5   S  H  S  S  S  S  S  S  S  S  S  \n",
            "    l  6   H  S  H  S  S  H  S  H  S  S  S        l   6   S  S  S  S  S  S  S  S  S  S  S  \n",
            "    e  7   H  H  S  H  S  S  S  S  S  S  S        e   7   S  S  S  S  H  S  S  S  S  S  S  \n",
            "    r  8   H  H  S  H  S  S  H  S  H  S  S        r   8   S  S  S  S  S  S  H  S  S  S  S  \n",
            "       9   H  S  S  S  S  S  S  S  S  S  S            9   S  S  S  S  H  S  S  S  S  S  S  \n",
            "      10   H  S  S  S  H  S  S  S  S  S  S           10   S  S  S  S  S  S  S  S  S  S  S  \n",
            "\n",
            "                                        Temporal Difference\n",
            "              player (usable ace)                            player (no usable ace)    \n",
            "          11 12 13 14 15 16 17 18 19 20 21               11 12 13 14 15 16 17 18 19 20 21 \n",
            "       1   H  H  S  S  H  S  S  S  H  S  S            1   H  H  H  H  H  S  S  S  S  S  S  \n",
            "       2   H  S  H  S  S  S  S  H  H  S  S            2   S  S  S  S  S  S  S  S  S  S  S  \n",
            "    D  3   H  S  H  H  S  H  S  S  S  S  S        D   3   S  S  S  S  S  S  S  S  S  S  S  \n",
            "    e  4   H  H  H  H  H  H  H  H  S  S  S        e   4   H  S  S  S  S  S  S  S  S  S  S  \n",
            "    a  5   H  H  H  H  H  H  S  S  S  S  S        a   5   S  S  S  S  S  S  S  S  S  S  S  \n",
            "    l  6   H  S  H  S  S  S  S  S  S  H  S        l   6   S  H  S  S  S  S  S  S  S  S  S  \n",
            "    e  7   H  H  H  H  S  H  H  S  S  S  S        e   7   H  S  S  S  H  S  S  S  S  S  S  \n",
            "    r  8   H  H  H  H  H  H  S  H  S  S  S        r   8   S  H  S  S  S  S  S  S  S  S  S  \n",
            "       9   H  H  H  H  H  S  S  S  S  S  S            9   H  S  S  H  S  S  S  S  S  S  S  \n",
            "      10   H  S  H  S  H  S  H  H  S  S  S           10   H  H  H  H  S  S  S  S  S  S  S  \n"
          ]
        }
      ]
    }
  ]
}