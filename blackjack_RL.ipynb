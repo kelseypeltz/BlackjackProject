{
  "nbformat": 4,
  "nbformat_minor": 0,
  "metadata": {
    "colab": {
      "provenance": [],
      "authorship_tag": "ABX9TyPO4LS8wPGZdI6MnCUGv2ei",
      "include_colab_link": true
    },
    "kernelspec": {
      "name": "python3",
      "display_name": "Python 3"
    },
    "language_info": {
      "name": "python"
    }
  },
  "cells": [
    {
      "cell_type": "markdown",
      "metadata": {
        "id": "view-in-github",
        "colab_type": "text"
      },
      "source": [
        "<a href=\"https://colab.research.google.com/github/kelseypeltz/BlackjackProject/blob/main/blackjack_RL.ipynb\" target=\"_parent\"><img src=\"https://colab.research.google.com/assets/colab-badge.svg\" alt=\"Open In Colab\"/></a>"
      ]
    },
    {
      "cell_type": "code",
      "execution_count": 1,
      "metadata": {
        "colab": {
          "base_uri": "https://localhost:8080/"
        },
        "id": "g7AqTxq9ow_J",
        "outputId": "261c7230-ff4c-465b-f8b3-367965ae4e6b"
      },
      "outputs": [
        {
          "output_type": "stream",
          "name": "stdout",
          "text": [
            "Mounted at /content/drive\n"
          ]
        }
      ],
      "source": [
        "from google.colab import drive\n",
        "drive.mount('/content/drive')"
      ]
    },
    {
      "cell_type": "code",
      "source": [
        "!git clone https://github.com/kelseypeltz/BlackjackProject.git"
      ],
      "metadata": {
        "colab": {
          "base_uri": "https://localhost:8080/"
        },
        "id": "8jFJuz7ipE08",
        "outputId": "982c60e4-909a-40a4-cdca-b149f3e39f91"
      },
      "execution_count": 2,
      "outputs": [
        {
          "output_type": "stream",
          "name": "stdout",
          "text": [
            "Cloning into 'BlackjackProject'...\n",
            "remote: Enumerating objects: 118, done.\u001b[K\n",
            "remote: Counting objects: 100% (118/118), done.\u001b[K\n",
            "remote: Compressing objects: 100% (110/110), done.\u001b[K\n",
            "remote: Total 118 (delta 34), reused 0 (delta 0), pack-reused 0\u001b[K\n",
            "Receiving objects: 100% (118/118), 42.81 KiB | 4.76 MiB/s, done.\n",
            "Resolving deltas: 100% (34/34), done.\n"
          ]
        }
      ]
    },
    {
      "cell_type": "code",
      "source": [
        "%cd BlackjackProject"
      ],
      "metadata": {
        "colab": {
          "base_uri": "https://localhost:8080/"
        },
        "id": "7tlE6IEKpIl1",
        "outputId": "16a82e18-8cd0-43c1-fad9-b79c54758473"
      },
      "execution_count": 4,
      "outputs": [
        {
          "output_type": "stream",
          "name": "stdout",
          "text": [
            "/content/BlackjackProject\n"
          ]
        }
      ]
    },
    {
      "cell_type": "code",
      "source": [
        "!python main.py"
      ],
      "metadata": {
        "colab": {
          "base_uri": "https://localhost:8080/"
        },
        "id": "-fi1EYPcpT1r",
        "outputId": "b1e7f4d4-b042-4925-ef42-f7751b4b3a6f"
      },
      "execution_count": 6,
      "outputs": [
        {
          "output_type": "stream",
          "name": "stdout",
          "text": [
            "Enter number of decks:1\n",
            "After train for  10000  iterations using Q-Learning\n",
            "Our game bot fights against the dealer for  10000  rounds\n",
            "Win:  41.4 %\n",
            "Draw:  6.94 %\n",
            "Lose:  51.66 %\n",
            "\n",
            "After train for  10000  iterations using Sarsa\n",
            "Our game bot fights against the dealer for  10000  rounds\n",
            "Win:  39.97 %\n",
            "Draw:  6.39 %\n",
            "Lose:  53.64 %\n",
            "\n",
            "After train for  10000  iterations using Temporal Difference\n",
            "Our game bot fights against the dealer for  10000  rounds\n",
            "Win:  40.839999999999996 %\n",
            "Draw:  7.33 %\n",
            "Lose:  51.83 %\n",
            "\n",
            "                                            Q-learning\n",
            "              player (usable ace)                            player (no usable ace)    \n",
            "          11 12 13 14 15 16 17 18 19 20 21               11 12 13 14 15 16 17 18 19 20 21 \n",
            "       1   H  H  S  S  H  H  S  S  S  S  S            1   H  H  S  S  S  S  S  S  S  S  S  \n",
            "       2   H  S  H  H  S  H  S  H  S  S  S            2   H  S  S  S  H  H  S  S  S  S  S  \n",
            "    D  3   H  H  S  H  H  H  S  S  S  S  S        D   3   H  S  S  S  S  S  S  S  S  S  S  \n",
            "    e  4   H  H  H  H  H  H  S  H  S  S  S        e   4   S  H  H  S  S  S  S  S  S  S  S  \n",
            "    a  5   H  H  S  H  S  H  S  H  S  S  S        a   5   H  H  S  S  S  S  S  S  S  S  S  \n",
            "    l  6   H  S  H  H  H  H  S  S  H  S  S        l   6   H  S  S  S  H  S  S  S  S  S  S  \n",
            "    e  7   H  S  H  H  H  H  S  H  S  S  S        e   7   H  H  S  H  H  H  S  S  S  S  S  \n",
            "    r  8   H  S  H  H  H  H  S  H  H  S  S        r   8   H  H  S  S  S  H  S  S  S  S  S  \n",
            "       9   H  S  H  H  H  S  S  H  S  S  S            9   H  S  S  H  S  S  S  S  S  S  S  \n",
            "      10   H  H  H  H  S  H  H  S  S  S  S           10   H  S  S  S  S  S  S  S  S  S  S  \n",
            "\n",
            "                                              Sarsa\n",
            "              player (usable ace)                            player (no usable ace)    \n",
            "          11 12 13 14 15 16 17 18 19 20 21               11 12 13 14 15 16 17 18 19 20 21 \n",
            "       1   H  S  S  S  S  S  S  S  S  S  S            1   S  S  S  H  S  S  S  S  S  S  S  \n",
            "       2   H  S  S  S  H  H  H  S  S  S  S            2   H  S  H  S  S  S  S  S  S  S  S  \n",
            "    D  3   H  S  S  S  H  S  H  S  S  S  S        D   3   S  S  S  S  S  S  S  S  S  S  S  \n",
            "    e  4   H  S  S  S  S  S  S  S  S  S  S        e   4   S  S  S  S  S  S  S  S  S  S  S  \n",
            "    a  5   H  S  H  S  H  H  H  S  S  S  S        a   5   H  S  S  S  S  S  S  S  S  S  S  \n",
            "    l  6   H  H  H  H  H  H  S  S  S  S  S        l   6   H  S  S  S  S  S  S  S  S  S  S  \n",
            "    e  7   H  H  S  S  H  S  S  S  S  S  S        e   7   H  S  S  S  S  H  S  S  S  S  S  \n",
            "    r  8   H  H  H  H  H  S  H  S  S  S  S        r   8   S  S  S  S  S  S  S  S  S  S  S  \n",
            "       9   H  H  H  H  H  S  S  H  S  S  S            9   H  S  S  S  S  H  S  S  S  S  S  \n",
            "      10   H  S  S  S  S  H  S  S  S  S  S           10   H  H  S  S  S  S  S  S  S  S  S  \n",
            "\n",
            "                                        Temporal Difference\n",
            "              player (usable ace)                            player (no usable ace)    \n",
            "          11 12 13 14 15 16 17 18 19 20 21               11 12 13 14 15 16 17 18 19 20 21 \n",
            "       1   H  H  H  S  H  H  H  S  H  S  S            1   H  H  H  H  H  H  S  S  S  S  S  \n",
            "       2   H  S  S  H  S  H  S  S  S  H  S            2   S  S  S  S  S  S  S  S  S  S  S  \n",
            "    D  3   H  H  S  S  H  H  S  H  S  S  S        D   3   H  S  H  S  S  S  S  S  S  S  S  \n",
            "    e  4   H  H  H  H  H  S  H  S  S  S  S        e   4   S  S  S  S  S  S  S  S  S  S  S  \n",
            "    a  5   H  H  S  S  S  H  H  H  S  S  S        a   5   H  S  S  S  S  S  S  S  S  S  S  \n",
            "    l  6   H  H  S  S  H  H  S  S  S  S  S        l   6   H  S  S  S  S  S  S  S  S  S  S  \n",
            "    e  7   H  H  H  H  H  S  S  S  S  S  S        e   7   S  S  S  H  H  H  S  S  S  S  S  \n",
            "    r  8   H  H  H  H  H  H  H  S  S  S  S        r   8   H  S  H  S  H  S  S  S  S  S  S  \n",
            "       9   H  H  H  S  H  S  H  S  S  S  S            9   H  H  S  H  S  S  S  S  S  S  S  \n",
            "      10   H  H  S  H  H  H  S  S  S  S  S           10   H  H  S  H  S  H  S  S  S  S  S  \n"
          ]
        }
      ]
    }
  ]
}